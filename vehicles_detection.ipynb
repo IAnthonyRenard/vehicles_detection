{
 "cells": [
  {
   "cell_type": "code",
   "execution_count": 1,
   "id": "96e45edb-9fac-49e2-8ac3-02bf3a1a1406",
   "metadata": {},
   "outputs": [],
   "source": [
    "import os\n",
    "import subprocess\n",
    "import IPython\n",
    "from IPython.display import Video, display"
   ]
  },
  {
   "cell_type": "code",
   "execution_count": 2,
   "id": "267178f0-a80f-43dd-a1d5-e371f6853f0e",
   "metadata": {},
   "outputs": [],
   "source": [
    "def play_video(video_path: str):\n",
    "    frac = 0.65 # scaling factor for display \n",
    "    display(\n",
    "        Video(data=video_path, embed=True, height=int(720*frac), width=int(1280*frac))\n",
    "    )"
   ]
  },
  {
   "cell_type": "code",
   "execution_count": 3,
   "id": "4876d4cf-64f2-4df0-9d2a-04ea491e4d9b",
   "metadata": {},
   "outputs": [],
   "source": [
    "def detect_and_segment_video(video_path:str) -> str:\n",
    "    \"\"\"\n",
    "    Annotates video with object detection bounding boxes and\n",
    "    segmentation masks using YOLOv8 model.\n",
    "    \"\"\"\n",
    "    \n",
    "    video_name = video_path.split('/')[-1]\n",
    "    folder_name = 'predict'\n",
    "    \n",
    "    # YOLOv8 Object Detection and Segmentation\n",
    "    # you can edit the model if you want to use a different yolo8 model\n",
    "    os.system(f\"yolo segment predict model=yolov8n-seg.pt source={video_path}\")\n",
    "    \n",
    "    # path to latest output \n",
    "    max = 0\n",
    "    for dir_name in os.listdir('runs/segment'):\n",
    "        if dir_name!='predict':\n",
    "            if int(dir_name[-1])>max:\n",
    "                max = int(dir_name[-1])\n",
    "    if max>0:\n",
    "        folder_name += str(max)\n",
    "    tmp_output_path = f'runs/segment/{folder_name}/{video_name}'\n",
    "        return tmp_output_path"
   ]
  },
  {
   "cell_type": "code",
   "execution_count": 4,
   "id": "83ef918a-e345-428c-9077-a0b768b894df",
   "metadata": {},
   "outputs": [],
   "source": [
    "# change the video path to predict on a different video\n",
    "video_path = 'D:/PERSO/yolo/Dom.mp4'\n",
    "\n",
    "# prediction\n",
    "output_path = detect_and_segment_video(video_path)"
   ]
  },
  {
   "cell_type": "code",
   "execution_count": 5,
   "id": "3b458a8c-2532-482b-bdd2-ef46dd96891f",
   "metadata": {},
   "outputs": [
    {
     "data": {
      "text/html": [
       "<video controls  width=\"832\"  height=\"468\">\n",
       " <source src=\"data:None;base64,runs/segment/predict9/Dom.mp4\" type=\"None\">\n",
       " Your browser does not support the video tag.\n",
       " </video>"
      ],
      "text/plain": [
       "<IPython.core.display.Video object>"
      ]
     },
     "metadata": {},
     "output_type": "display_data"
    }
   ],
   "source": [
    "play_video(output_path)"
   ]
  }
 ],
 "metadata": {
  "kernelspec": {
   "display_name": "Python 3 (ipykernel)",
   "language": "python",
   "name": "python3"
  },
  "language_info": {
   "codemirror_mode": {
    "name": "ipython",
    "version": 3
   },
   "file_extension": ".py",
   "mimetype": "text/x-python",
   "name": "python",
   "nbconvert_exporter": "python",
   "pygments_lexer": "ipython3",
   "version": "3.9.12"
  }
 },
 "nbformat": 4,
 "nbformat_minor": 5
}
